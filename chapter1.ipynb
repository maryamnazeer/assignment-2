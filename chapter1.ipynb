{
 "cells": [
  {
   "cell_type": "markdown",
   "id": "8cb75591-414d-4fd0-ab96-00a5953ec689",
   "metadata": {},
   "source": [
    "chptr"
   ]
  },
  {
   "cell_type": "code",
   "execution_count": 7,
   "id": "8a2726c6-6ee2-4bac-8387-76f4c77e4b61",
   "metadata": {},
   "outputs": [
    {
     "data": {
      "text/plain": [
       "9"
      ]
     },
     "execution_count": 7,
     "metadata": {},
     "output_type": "execute_result"
    }
   ],
   "source": [
    "m=9\n",
    "m"
   ]
  },
  {
   "cell_type": "code",
   "execution_count": 8,
   "id": "9cf90517-359e-40e6-a14d-ec924df0a67b",
   "metadata": {},
   "outputs": [
    {
     "data": {
      "text/plain": [
       "2"
      ]
     },
     "execution_count": 8,
     "metadata": {},
     "output_type": "execute_result"
    }
   ],
   "source": [
    "x=2\n",
    "x"
   ]
  },
  {
   "cell_type": "code",
   "execution_count": 12,
   "id": "bb609a91-7a6c-4b54-8cbc-d309072f669b",
   "metadata": {},
   "outputs": [
    {
     "data": {
      "text/plain": [
       "4"
      ]
     },
     "execution_count": 12,
     "metadata": {},
     "output_type": "execute_result"
    }
   ],
   "source": [
    "x=2\n",
    "x=x+2\n",
    "x"
   ]
  },
  {
   "cell_type": "code",
   "execution_count": 13,
   "id": "6107c777-ee52-4c4d-87f5-51c8116f08d1",
   "metadata": {},
   "outputs": [
    {
     "data": {
      "text/plain": [
       "4"
      ]
     },
     "execution_count": 13,
     "metadata": {},
     "output_type": "execute_result"
    }
   ],
   "source": [
    "x"
   ]
  },
  {
   "cell_type": "code",
   "execution_count": 15,
   "id": "b732bf8e-9c08-4c92-8e5c-991d69defe41",
   "metadata": {},
   "outputs": [],
   "source": [
    "x=2*3-(x-1)"
   ]
  },
  {
   "cell_type": "code",
   "execution_count": 16,
   "id": "ac08f255-7148-4e95-aae2-46ffc3a5e650",
   "metadata": {},
   "outputs": [
    {
     "data": {
      "text/plain": [
       "3"
      ]
     },
     "execution_count": 16,
     "metadata": {},
     "output_type": "execute_result"
    }
   ],
   "source": [
    "x"
   ]
  },
  {
   "cell_type": "code",
   "execution_count": 17,
   "id": "94448156-c0ec-4f70-8703-fcb06fa41684",
   "metadata": {},
   "outputs": [],
   "source": [
    "xx=2\n",
    "xx=xx+3"
   ]
  },
  {
   "cell_type": "code",
   "execution_count": 18,
   "id": "7d7763b6-d662-4ac7-87a9-cae38724c43a",
   "metadata": {},
   "outputs": [
    {
     "data": {
      "text/plain": [
       "5"
      ]
     },
     "execution_count": 18,
     "metadata": {},
     "output_type": "execute_result"
    }
   ],
   "source": [
    "xx"
   ]
  },
  {
   "cell_type": "code",
   "execution_count": 19,
   "id": "778570fa-0213-411d-afae-a3317a1fe72d",
   "metadata": {},
   "outputs": [],
   "source": [
    "zz=5\n",
    "zz=zz%2"
   ]
  },
  {
   "cell_type": "code",
   "execution_count": 20,
   "id": "9788c63c-3d3b-46da-9f64-d113d7312dd0",
   "metadata": {},
   "outputs": [
    {
     "data": {
      "text/plain": [
       "1"
      ]
     },
     "execution_count": 20,
     "metadata": {},
     "output_type": "execute_result"
    }
   ],
   "source": [
    "zz"
   ]
  },
  {
   "cell_type": "code",
   "execution_count": 21,
   "id": "342d18a3-bb4e-4d29-8fd1-ab9d32b3f163",
   "metadata": {},
   "outputs": [],
   "source": [
    "yy=2*3"
   ]
  },
  {
   "cell_type": "code",
   "execution_count": 22,
   "id": "2001a7c2-f9aa-4c3e-ba23-0deaef12781e",
   "metadata": {},
   "outputs": [
    {
     "data": {
      "text/plain": [
       "6"
      ]
     },
     "execution_count": 22,
     "metadata": {},
     "output_type": "execute_result"
    }
   ],
   "source": [
    "yy"
   ]
  },
  {
   "cell_type": "code",
   "execution_count": 23,
   "id": "72fb96d8-c668-4ae3-adcf-cd7f6ead26ba",
   "metadata": {},
   "outputs": [],
   "source": [
    "mm=2/5"
   ]
  },
  {
   "cell_type": "code",
   "execution_count": 24,
   "id": "ee110454-2dea-4170-8742-a7172fcb72c8",
   "metadata": {},
   "outputs": [
    {
     "data": {
      "text/plain": [
       "0.4"
      ]
     },
     "execution_count": 24,
     "metadata": {},
     "output_type": "execute_result"
    }
   ],
   "source": [
    "mm"
   ]
  },
  {
   "cell_type": "code",
   "execution_count": 25,
   "id": "bf2a6c38-efac-402e-bd55-cf290934cc08",
   "metadata": {},
   "outputs": [],
   "source": [
    "y=2+3-4*1/2"
   ]
  },
  {
   "cell_type": "code",
   "execution_count": 26,
   "id": "a1a26f0f-db0e-4a82-a7f9-db1983336fa0",
   "metadata": {},
   "outputs": [
    {
     "data": {
      "text/plain": [
       "3.0"
      ]
     },
     "execution_count": 26,
     "metadata": {},
     "output_type": "execute_result"
    }
   ],
   "source": [
    "y"
   ]
  },
  {
   "cell_type": "code",
   "execution_count": 27,
   "id": "7770f3d0-08ce-4f57-92a6-aee39420651a",
   "metadata": {},
   "outputs": [
    {
     "data": {
      "text/plain": [
       "5"
      ]
     },
     "execution_count": 27,
     "metadata": {},
     "output_type": "execute_result"
    }
   ],
   "source": [
    "dd=1+4\n",
    "dd"
   ]
  },
  {
   "cell_type": "code",
   "execution_count": 29,
   "id": "7fc98452-f7e5-4658-a131-60f31f97a685",
   "metadata": {},
   "outputs": [
    {
     "data": {
      "text/plain": [
       "'hellothere'"
      ]
     },
     "execution_count": 29,
     "metadata": {},
     "output_type": "execute_result"
    }
   ],
   "source": [
    "eee='hello'+'there'\n",
    "eee"
   ]
  },
  {
   "cell_type": "code",
   "execution_count": 30,
   "id": "075a0141-959b-47de-8799-a0892a2ac205",
   "metadata": {},
   "outputs": [],
   "source": [
    "temp = 98.3"
   ]
  },
  {
   "cell_type": "code",
   "execution_count": 31,
   "id": "b002168f-a9f4-44cb-851e-28f87de08f7d",
   "metadata": {},
   "outputs": [
    {
     "data": {
      "text/plain": [
       "98.3"
      ]
     },
     "execution_count": 31,
     "metadata": {},
     "output_type": "execute_result"
    }
   ],
   "source": [
    "temp"
   ]
  },
  {
   "cell_type": "code",
   "execution_count": 33,
   "id": "014f4c70-9d84-4d79-b088-ce7b8a854cbc",
   "metadata": {},
   "outputs": [
    {
     "name": "stdout",
     "output_type": "stream",
     "text": [
      "1.5\n"
     ]
    }
   ],
   "source": [
    "print(9/6)"
   ]
  },
  {
   "cell_type": "code",
   "execution_count": 34,
   "id": "141a35ef-442f-42cb-995d-3a6fbfd05261",
   "metadata": {},
   "outputs": [
    {
     "name": "stdout",
     "output_type": "stream",
     "text": [
      "6.0\n"
     ]
    }
   ],
   "source": [
    "print(12/2)"
   ]
  },
  {
   "cell_type": "code",
   "execution_count": 40,
   "id": "9c26a9db-5ab6-43f1-b4a7-13b0b7383fc2",
   "metadata": {},
   "outputs": [
    {
     "data": {
      "text/plain": [
       "str"
      ]
     },
     "execution_count": 40,
     "metadata": {},
     "output_type": "execute_result"
    }
   ],
   "source": [
    "sval = '123'\n",
    "type(sval)"
   ]
  },
  {
   "cell_type": "code",
   "execution_count": null,
   "id": "85b3674b-1e4d-4f87-b0b3-97f601591b47",
   "metadata": {},
   "outputs": [],
   "source": []
  }
 ],
 "metadata": {
  "kernelspec": {
   "display_name": "Python 3 (ipykernel)",
   "language": "python",
   "name": "python3"
  },
  "language_info": {
   "codemirror_mode": {
    "name": "ipython",
    "version": 3
   },
   "file_extension": ".py",
   "mimetype": "text/x-python",
   "name": "python",
   "nbconvert_exporter": "python",
   "pygments_lexer": "ipython3",
   "version": "3.9.13"
  }
 },
 "nbformat": 4,
 "nbformat_minor": 5
}
